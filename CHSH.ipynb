{
 "cells": [
  {
   "cell_type": "code",
   "execution_count": 1,
   "metadata": {},
   "outputs": [],
   "source": [
    "import numpy as np\n",
    "from qiskit import *"
   ]
  },
  {
   "cell_type": "code",
   "execution_count": 2,
   "metadata": {},
   "outputs": [],
   "source": [
    "def initialize_circuit():\n",
    "    qc = QuantumCircuit(2,2)\n",
    "    qc.h(0)\n",
    "    qc.cx(0,1)\n",
    "    return qc"
   ]
  },
  {
   "cell_type": "code",
   "execution_count": 3,
   "metadata": {},
   "outputs": [],
   "source": [
    "def zz_measurement(qc):\n",
    "    \"\"\"Measure 'qubit' in the ZZ-basis, and store the result in 'cbit'\"\"\"\n",
    "    qc.measure([0,1],[0,1])\n",
    "    return qc\n",
    "\n",
    "def zv_measurement(qc):\n",
    "    \"\"\"Measure 'qubit' in the ZV-basis, and store the result in 'cbit'\"\"\"\n",
    "    qc.ry(np.pi/4,1)\n",
    "    qc.measure([0,1],[0,1])\n",
    "    return qc\n",
    "\n",
    "def zw_measurement(qc):\n",
    "    \"\"\"Measure 'qubit' in the ZW-basis, and store the result in 'cbit'\"\"\"\n",
    "    qc.ry(-np.pi/4,1)\n",
    "    qc.measure([0,1],[0,1])\n",
    "    return qc\n",
    "\n",
    "def xv_measurement(qc):\n",
    "    \"\"\"Measure 'qubit' in the XV-basis, and store the result in 'cbit'\"\"\"\n",
    "    qc.h(0)\n",
    "    qc.ry(+np.pi/4,1)\n",
    "    qc.measure([0,1],[0,1])\n",
    "    return qc\n",
    "\n",
    "def xw_measurement(qc):\n",
    "    \"\"\"Measure 'qubit' in the XW-basis, and store the result in 'cbit'\"\"\"\n",
    "    qc.h(0)\n",
    "    qc.ry(-np.pi/4,1)\n",
    "    qc.measure([0,1],[0,1])\n",
    "    return qc\n"
   ]
  },
  {
   "cell_type": "code",
   "execution_count": 4,
   "metadata": {},
   "outputs": [],
   "source": [
    "shots = 65536 # number of samples used for statistics\n",
    "\n",
    "def average(qc, measurement='ZZ'):\n",
    "\n",
    "    \n",
    "    if measurement == 'ZW':\n",
    "        circuit = zw_measurement(qc)\n",
    "    elif measurement == 'ZV':\n",
    "        circuit = zv_measurement(qc)\n",
    "    elif measurement == 'XW':\n",
    "        circuit = xw_measurement(qc)\n",
    "    elif measurement == 'XV':\n",
    "        circuit = xv_measurement(qc)\n",
    "    else:\n",
    "        circuit = zz_measurement(qc)\n",
    "    \n",
    "    # run the circuit with the selected measurement and \n",
    "    # get the number of samples that output each bit value\n",
    "    job = execute(circuit, Aer.get_backend('qasm_simulator'), shots=shots)\n",
    "    result = job.result()\n",
    "    counts = result.get_counts()\n",
    "\n",
    "    # calculate the probabilities for each bit value\n",
    "    probs = {}\n",
    "    for output in ['00', '01', '10', '11']:\n",
    "        if output in counts:\n",
    "            probs[output] = counts[output]/shots\n",
    "        else:\n",
    "            probs[output] = 0\n",
    "            \n",
    "    # calculate average value\n",
    "    avg = probs['00'] + probs['11'] - probs['10'] - probs['01']\n",
    "    \n",
    "    return avg"
   ]
  },
  {
   "cell_type": "code",
   "execution_count": 5,
   "metadata": {},
   "outputs": [],
   "source": [
    "def S(qc):\n",
    "    tmp = [QuantumCircuit.copy(qc) for i in range(4)]\n",
    "    S = average(tmp[0], measurement='ZV') + average(tmp[1], measurement='ZW') + average(tmp[2], measurement='XW') - average(tmp[3], measurement='XV')\n",
    "\n",
    "    return S"
   ]
  },
  {
   "cell_type": "code",
   "execution_count": 6,
   "metadata": {},
   "outputs": [
    {
     "data": {
      "text/plain": [
       "2.829315185546875"
      ]
     },
     "execution_count": 6,
     "metadata": {},
     "output_type": "execute_result"
    }
   ],
   "source": [
    "S(initialize_circuit())"
   ]
  }
 ],
 "metadata": {
  "kernelspec": {
   "display_name": "Python 3",
   "language": "python",
   "name": "python3"
  },
  "language_info": {
   "codemirror_mode": {
    "name": "ipython",
    "version": 3
   },
   "file_extension": ".py",
   "mimetype": "text/x-python",
   "name": "python",
   "nbconvert_exporter": "python",
   "pygments_lexer": "ipython3",
   "version": "3.8.8"
  }
 },
 "nbformat": 4,
 "nbformat_minor": 2
}
